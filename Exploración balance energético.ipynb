{
 "cells": [
  {
   "cell_type": "markdown",
   "metadata": {
    "deletable": true,
    "editable": true
   },
   "source": [
    "# Exploración de Dataset: Balance Energético"
   ]
  },
  {
   "cell_type": "markdown",
   "metadata": {
    "deletable": true,
    "editable": true
   },
   "source": [
    "## Importación de librerías y seteo de variables"
   ]
  },
  {
   "cell_type": "code",
   "execution_count": 2,
   "metadata": {
    "collapsed": false,
    "deletable": true,
    "editable": true
   },
   "outputs": [],
   "source": [
    "import pandas as pd\n",
    "import numpy as np\n",
    "import matplotlib\n",
    "import matplotlib.pyplot as plt\n",
    "import openpyxl as pyxl\n",
    "from __future__ import print_function\n",
    "from __future__ import unicode_literals\n",
    "# matplotlib defaults\n",
    "%matplotlib inline\n",
    "matplotlib.style.use(\"ggplot\")\n",
    "import os"
   ]
  },
  {
   "cell_type": "code",
   "execution_count": 3,
   "metadata": {
    "collapsed": true,
    "deletable": true,
    "editable": true
   },
   "outputs": [],
   "source": [
    "FICHEROS = {\"microdatos\": \"datos/Datos Abiertos Series V2a Original.xlsx\",\n",
    "            \"sintesis\": \"datos/Resumen de los Datos.xlsx\",\n",
    "            \"poblacion\": \"datos/serie_poblacion.csv\"}"
   ]
  },
  {
   "cell_type": "markdown",
   "metadata": {
    "deletable": true,
    "editable": true
   },
   "source": [
    "## Carga de datos"
   ]
  },
  {
   "cell_type": "markdown",
   "metadata": {
    "deletable": true,
    "editable": true
   },
   "source": [
    "### Serie de población"
   ]
  },
  {
   "cell_type": "code",
   "execution_count": 4,
   "metadata": {
    "collapsed": true,
    "deletable": true,
    "editable": true
   },
   "outputs": [],
   "source": [
    "df_pobl = pd.read_csv(FICHEROS[\"poblacion\"],index_col=\"anio\")\n",
    "poblacion = pd.Series(data=df_pobl[\"poblacion\"], index=df_pobl.index)"
   ]
  },
  {
   "cell_type": "code",
   "execution_count": 5,
   "metadata": {
    "collapsed": false,
    "deletable": true,
    "editable": true
   },
   "outputs": [
    {
     "data": {
      "text/plain": [
       "<matplotlib.axes._subplots.AxesSubplot at 0x7fe284f95750>"
      ]
     },
     "execution_count": 5,
     "metadata": {},
     "output_type": "execute_result"
    },
    {
     "data": {
      "image/png": "[encoded data removed]",
      "text/plain": [
       "<matplotlib.figure.Figure at 0x7fe284f82f50>"
      ]
     },
     "metadata": {},
     "output_type": "display_data"
    }
   ],
   "source": [
    "poblacion.plot(figsize=(14, 7))"
   ]
  },
  {
   "cell_type": "markdown",
   "metadata": {
    "deletable": true,
    "editable": true
   },
   "source": [
    "### Parseo de microdatos de energía"
   ]
  },
  {
   "cell_type": "markdown",
   "metadata": {
    "deletable": true,
    "editable": true
   },
   "source": [
    "A partir de la planilla de microdatos de Balance Energético, se genera un Panel de datos con los siguientes ejes:\n",
    "* Items axis (**0**, DataFrames por año): 1960 to 2015\n",
    "* Major_axis axis (**1**, Índice por Energía): ACEITES VEGETALES to SOLAR\n",
    "* Minor_axis axis (**2**, Columnas por Uso): PROD to INDUS"
   ]
  },
  {
   "cell_type": "code",
   "execution_count": 6,
   "metadata": {
    "collapsed": false,
    "deletable": true,
    "editable": true
   },
   "outputs": [],
   "source": [
    "wb = pyxl.load_workbook(FICHEROS[\"microdatos\"], data_only=True)"
   ]
  },
  {
   "cell_type": "code",
   "execution_count": 7,
   "metadata": {
    "collapsed": true,
    "deletable": true,
    "editable": true
   },
   "outputs": [],
   "source": [
    "def sheet_to_df(ws):\n",
    "    raw_data = ws.values\n",
    "    # La celda A1 tiene el nombre de la energía de la planilla\n",
    "    name = next(raw_data)[0]\n",
    "    cols = next(raw_data)\n",
    "    rows = list(raw_data)[:56] # Luego de 56 filas de años, algunas sheets tienen aclaraciones\n",
    "    df = pd.DataFrame.from_records(rows, columns=cols)\n",
    "    # Asigno índice y corrijo el nombre\n",
    "    df = df.set_index(\"KTEP\")\n",
    "    df.index = df.index.rename(\"anio\")\n",
    "    # Elimino las columnas vacías\n",
    "    df = df.drop(None, axis=1)\n",
    "    # Relleno None y NaN con ceros\n",
    "    df = df.fillna(0)\n",
    "    return df, name"
   ]
  },
  {
   "cell_type": "code",
   "execution_count": 8,
   "metadata": {
    "collapsed": false,
    "deletable": true,
    "editable": true
   },
   "outputs": [],
   "source": [
    "ENERGIAS = {}\n",
    "for ws in wb.worksheets:\n",
    "    df, energia = sheet_to_df(ws)\n",
    "    ENERGIAS[energia] = df"
   ]
  },
  {
   "cell_type": "code",
   "execution_count": 9,
   "metadata": {
    "collapsed": false,
    "deletable": true,
    "editable": true
   },
   "outputs": [
    {
     "data": {
      "text/plain": [
       "<class 'pandas.core.panel.Panel'>\n",
       "Dimensions: 56 (items) x 31 (major_axis) x 23 (minor_axis)\n",
       "Items axis: 1960 to 2015\n",
       "Major_axis axis: ACEITES VEGETALES to SOLAR\n",
       "Minor_axis axis: PROD to INDUS"
      ]
     },
     "execution_count": 9,
     "metadata": {},
     "output_type": "execute_result"
    }
   ],
   "source": [
    "pan_crudo = pd.Panel(ENERGIAS)\n",
    "pan_crudo = pan_crudo.transpose(1, 0, 2)\n",
    "pan_crudo"
   ]
  },
  {
   "cell_type": "markdown",
   "metadata": {},
   "source": [
    "### Cálculo del consumo final por año y energía"
   ]
  },
  {
   "cell_type": "code",
   "execution_count": 19,
   "metadata": {
    "collapsed": false
   },
   "outputs": [],
   "source": [
    "pan_crudo.loc[:,:,\"CONSUMO TOTAL\"] = reduce(\n",
    "    pd.DataFrame.add, [pan_crudo[:,:,uso] for uso in ['NO ENER', 'RESID', 'COMER', 'TRANS', 'AGROP', 'INDUS']])"
   ]
  },
  {
   "cell_type": "code",
   "execution_count": 23,
   "metadata": {
    "collapsed": false,
    "deletable": true,
    "editable": true
   },
   "outputs": [],
   "source": [
    "pan_crudo.loc[:, \"TODAS LAS ENERGIAS\", :] = reduce(\n",
    "    pd.DataFrame.add, [pan_crudo[:, energia, :] for energia in pan_crudo.major_axis])"
   ]
  },
  {
   "cell_type": "code",
   "execution_count": 25,
   "metadata": {
    "collapsed": false,
    "deletable": true,
    "editable": true
   },
   "outputs": [],
   "source": [
    "consumo_total = pan_crudo[:,\"TODAS LAS ENERGIAS\", \"CONSUMO TOTAL\"]"
   ]
  },
  {
   "cell_type": "code",
   "execution_count": 29,
   "metadata": {
    "collapsed": true,
    "deletable": true,
    "editable": true
   },
   "outputs": [],
   "source": [
    "consumo_per_capita = consumo_total / poblacion.dropna()"
   ]
  },
  {
   "cell_type": "code",
   "execution_count": 32,
   "metadata": {
    "collapsed": false
   },
   "outputs": [
    {
     "data": {
      "text/plain": [
       "<matplotlib.axes._subplots.AxesSubplot at 0x7fe28092e510>"
      ]
     },
     "execution_count": 32,
     "metadata": {},
     "output_type": "execute_result"
    },
    {
     "data": {
      "image/png": "[encoded data removed]",
      "text/plain": [
       "<matplotlib.figure.Figure at 0x7fe28088ff90>"
      ]
     },
     "metadata": {},
     "output_type": "display_data"
    }
   ],
   "source": [
    "consumo_per_capita.plot(xlim=(1960,2015), figsize=(14,7))"
   ]
  },
  {
   "cell_type": "code",
   "execution_count": null,
   "metadata": {
    "collapsed": true
   },
   "outputs": [],
   "source": []
  }
 ],
 "metadata": {
  "kernelspec": {
   "display_name": "Python 2",
   "language": "python",
   "name": "python2"
  },
  "language_info": {
   "codemirror_mode": {
    "name": "ipython",
    "version": 2
   },
   "file_extension": ".py",
   "mimetype": "text/x-python",
   "name": "python",
   "nbconvert_exporter": "python",
   "pygments_lexer": "ipython2",
   "version": "2.7.12"
  },
  "toc": {
   "nav_menu": {
    "height": "118px",
    "width": "252px"
   },
   "navigate_menu": true,
   "number_sections": true,
   "sideBar": true,
   "threshold": 4,
   "toc_cell": false,
   "toc_section_display": "block",
   "toc_window_display": false
  }
 },
 "nbformat": 4,
 "nbformat_minor": 2
}
