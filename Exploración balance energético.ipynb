{
 "cells": [
  {
   "cell_type": "markdown",
   "metadata": {
    "deletable": true,
    "editable": true
   },
   "source": [
    "# Exploración de Dataset: Balance Energético"
   ]
  },
  {
   "cell_type": "markdown",
   "metadata": {
    "deletable": true,
    "editable": true
   },
   "source": [
    "## Importación de librerías y seteo de variables"
   ]
  },
  {
   "cell_type": "code",
   "execution_count": null,
   "metadata": {
    "collapsed": false,
    "deletable": true,
    "editable": true
   },
   "outputs": [],
   "source": [
    "import pandas as pd\n",
    "import numpy as np\n",
    "import matplotlib\n",
    "import matplotlib.pyplot as plt\n",
    "import openpyxl as pyxl\n",
    "from __future__ import print_function\n",
    "from __future__ import unicode_literals\n",
    "# matplotlib defaults\n",
    "%matplotlib inline\n",
    "matplotlib.style.use(\"ggplot\")\n",
    "import os"
   ]
  },
  {
   "cell_type": "code",
   "execution_count": null,
   "metadata": {
    "collapsed": true,
    "deletable": true,
    "editable": true
   },
   "outputs": [],
   "source": [
    "FICHEROS = {\"microdatos\": \"datos/Datos Abiertos Series V2a Original.xlsx\",\n",
    "            \"sintesis\": \"datos/Resumen de los Datos.xlsx\",\n",
    "            \"poblacion\": \"datos/serie_poblacion.csv\",\n",
    "            \"nodos\": \"datos/listado-nodos.csv\"\n",
    "}"
   ]
  },
  {
   "cell_type": "markdown",
   "metadata": {
    "deletable": true,
    "editable": true
   },
   "source": [
    "## Carga de datos"
   ]
  },
  {
   "cell_type": "markdown",
   "metadata": {
    "deletable": true,
    "editable": true
   },
   "source": [
    "### Serie de población"
   ]
  },
  {
   "cell_type": "code",
   "execution_count": null,
   "metadata": {
    "collapsed": true,
    "deletable": true,
    "editable": true
   },
   "outputs": [],
   "source": [
    "df_pobl = pd.read_csv(FICHEROS[\"poblacion\"],index_col=\"anio\")\n",
    "poblacion = pd.Series(data=df_pobl[\"poblacion\"], index=df_pobl.index)"
   ]
  },
  {
   "cell_type": "code",
   "execution_count": null,
   "metadata": {
    "collapsed": false,
    "deletable": true,
    "editable": true
   },
   "outputs": [],
   "source": [
    "poblacion.plot(figsize=(14, 7))"
   ]
  },
  {
   "cell_type": "markdown",
   "metadata": {
    "deletable": true,
    "editable": true
   },
   "source": [
    "### Parseo de microdatos de energía"
   ]
  },
  {
   "cell_type": "markdown",
   "metadata": {
    "deletable": true,
    "editable": true
   },
   "source": [
    "A partir de la planilla de microdatos de Balance Energético, se genera un Panel de datos con los siguientes ejes:\n",
    "* Items axis (**0**, DataFrames por año): 1960 to 2015\n",
    "* Major_axis axis (**1**, Índice por Energía): ACEITES VEGETALES to SOLAR\n",
    "* Minor_axis axis (**2**, Columnas por Uso): PROD to INDUS"
   ]
  },
  {
   "cell_type": "code",
   "execution_count": null,
   "metadata": {
    "collapsed": false,
    "deletable": true,
    "editable": true
   },
   "outputs": [],
   "source": [
    "wb = pyxl.load_workbook(FICHEROS[\"microdatos\"], data_only=True)"
   ]
  },
  {
   "cell_type": "code",
   "execution_count": null,
   "metadata": {
    "collapsed": true,
    "deletable": true,
    "editable": true
   },
   "outputs": [],
   "source": [
    "def sheet_to_df(ws):\n",
    "    raw_data = ws.values\n",
    "    # La celda A1 tiene el nombre de la energía de la planilla\n",
    "    name = next(raw_data)[0]\n",
    "    cols = next(raw_data)\n",
    "    rows = list(raw_data)[:56] # Luego de 56 filas de años, algunas sheets tienen aclaraciones\n",
    "    df = pd.DataFrame.from_records(rows, columns=cols)\n",
    "    # Asigno índice y corrijo el nombre\n",
    "    df = df.set_index(\"KTEP\")\n",
    "    df.index = df.index.rename(\"anio\")\n",
    "    # Elimino las columnas vacías\n",
    "    df = df.drop(None, axis=1)\n",
    "    # Relleno None y NaN con ceros\n",
    "    df = df.fillna(0)\n",
    "    return df, name"
   ]
  },
  {
   "cell_type": "code",
   "execution_count": null,
   "metadata": {
    "collapsed": false,
    "deletable": true,
    "editable": true
   },
   "outputs": [],
   "source": [
    "ENERGIAS = {}\n",
    "for ws in wb.worksheets:\n",
    "    df, energia = sheet_to_df(ws)\n",
    "    ENERGIAS[energia] = df"
   ]
  },
  {
   "cell_type": "code",
   "execution_count": null,
   "metadata": {
    "collapsed": false,
    "deletable": true,
    "editable": true
   },
   "outputs": [],
   "source": [
    "pan_crudo = pd.Panel(ENERGIAS)\n",
    "pan_crudo = pan_crudo.transpose(1, 0, 2)\n",
    "pan_crudo"
   ]
  },
  {
   "cell_type": "markdown",
   "metadata": {
    "deletable": true,
    "editable": true
   },
   "source": [
    "### Cálculo del consumo final por año y energía"
   ]
  },
  {
   "cell_type": "code",
   "execution_count": null,
   "metadata": {
    "collapsed": false,
    "deletable": true,
    "editable": true
   },
   "outputs": [],
   "source": [
    "pan_crudo.loc[:,:,\"CONSUMO TOTAL\"] = reduce(\n",
    "    pd.DataFrame.add, [pan_crudo[:,:,uso] for uso in ['NO ENER', 'RESID', 'COMER', 'TRANS', 'AGROP', 'INDUS']])"
   ]
  },
  {
   "cell_type": "code",
   "execution_count": null,
   "metadata": {
    "collapsed": false,
    "deletable": true,
    "editable": true
   },
   "outputs": [],
   "source": [
    "pan_crudo.loc[:, \"TODAS LAS ENERGIAS\", :] = reduce(\n",
    "    pd.DataFrame.add, [pan_crudo[:, energia, :] for energia in pan_crudo.major_axis])"
   ]
  },
  {
   "cell_type": "code",
   "execution_count": null,
   "metadata": {
    "collapsed": false,
    "deletable": true,
    "editable": true
   },
   "outputs": [],
   "source": [
    "consumo_total = pan_crudo[:,\"TODAS LAS ENERGIAS\", \"CONSUMO TOTAL\"]"
   ]
  },
  {
   "cell_type": "code",
   "execution_count": null,
   "metadata": {
    "collapsed": true,
    "deletable": true,
    "editable": true
   },
   "outputs": [],
   "source": [
    "consumo_per_capita = consumo_total / poblacion.dropna()"
   ]
  },
  {
   "cell_type": "code",
   "execution_count": null,
   "metadata": {
    "collapsed": false,
    "deletable": true,
    "editable": true
   },
   "outputs": [],
   "source": [
    "consumo_per_capita.plot(xlim=(1960,2015), figsize=(14,7))"
   ]
  },
  {
   "cell_type": "code",
   "execution_count": null,
   "metadata": {
    "collapsed": true,
    "deletable": true,
    "editable": true
   },
   "outputs": [],
   "source": [
    "import networkx as nx\n",
    "import matplotlib.pyplot\n",
    "import unicodecsv as csv"
   ]
  },
  {
   "cell_type": "code",
   "execution_count": null,
   "metadata": {
    "collapsed": true,
    "deletable": true,
    "editable": true
   },
   "outputs": [],
   "source": [
    "csv_nodos = csv.DictReader(open(FICHEROS[\"nodos\"]))\n",
    "nodos = list(csv_nodos)"
   ]
  },
  {
   "cell_type": "code",
   "execution_count": null,
   "metadata": {
    "collapsed": false,
    "deletable": true,
    "editable": true,
    "scrolled": true
   },
   "outputs": [],
   "source": [
    "dg = nx.DiGraph(data=[(e[\"NOMBRE\"], e[\"PADRE\"]) for e in nodos])"
   ]
  },
  {
   "cell_type": "code",
   "execution_count": null,
   "metadata": {
    "collapsed": false,
    "deletable": true,
    "editable": true
   },
   "outputs": [],
   "source": [
    "pos = {x[\"NOMBRE\"]: (int(x[\"NIVEL\"]), random.randint(1,50)) for x in nodos}"
   ]
  },
  {
   "cell_type": "code",
   "execution_count": null,
   "metadata": {
    "collapsed": false,
    "deletable": true,
    "editable": true
   },
   "outputs": [],
   "source": [
    "pos[\"\"]= (4,10)"
   ]
  },
  {
   "cell_type": "code",
   "execution_count": null,
   "metadata": {
    "collapsed": true,
    "deletable": true,
    "editable": true
   },
   "outputs": [],
   "source": []
  },
  {
   "cell_type": "code",
   "execution_count": null,
   "metadata": {
    "collapsed": false,
    "deletable": true,
    "editable": true
   },
   "outputs": [],
   "source": [
    "nx.draw_networkx_nodes(dg, pos)\n",
    "nx.draw_networkx_edges(dg, pos, arrows=True)\n",
    "nx.draw_networkx_labels(dg, pos, labes=dg.nodes())\n",
    "\n",
    "plt.figure(figsize=(14,7))\n",
    "\n",
    "nx.draw(dg, pos, node_size=60, font_size=8)"
   ]
  },
  {
   "cell_type": "code",
   "execution_count": null,
   "metadata": {
    "collapsed": true,
    "deletable": true,
    "editable": true
   },
   "outputs": [],
   "source": [
    "import random"
   ]
  },
  {
   "cell_type": "code",
   "execution_count": null,
   "metadata": {
    "collapsed": false,
    "deletable": true,
    "editable": true
   },
   "outputs": [],
   "source": [
    "random.randint(1,100)"
   ]
  },
  {
   "cell_type": "code",
   "execution_count": null,
   "metadata": {
    "collapsed": false,
    "deletable": true,
    "editable": true
   },
   "outputs": [],
   "source": [
    "energias = pan_crudo.major_axis\n",
    "usos = pan_crudo.minor_axis\n",
    "nombres = pd.Series(energias.append(usos))"
   ]
  },
  {
   "cell_type": "code",
   "execution_count": null,
   "metadata": {
    "collapsed": false,
    "deletable": true,
    "editable": true
   },
   "outputs": [],
   "source": [
    "nombres.to_csv(\"conversor_final.csv\", encoding=\"utf-8\")"
   ]
  },
  {
   "cell_type": "code",
   "execution_count": null,
   "metadata": {
    "collapsed": false,
    "deletable": true,
    "editable": true
   },
   "outputs": [],
   "source": [
    "nombres.to"
   ]
  },
  {
   "cell_type": "code",
   "execution_count": null,
   "metadata": {
    "collapsed": true,
    "deletable": true,
    "editable": true
   },
   "outputs": [],
   "source": []
  }
 ],
 "metadata": {
  "anaconda-cloud": {},
  "kernelspec": {
   "display_name": "Python 2",
   "language": "python",
   "name": "python2"
  },
  "language_info": {
   "codemirror_mode": {
    "name": "ipython",
    "version": 2
   },
   "file_extension": ".py",
   "mimetype": "text/x-python",
   "name": "python",
   "nbconvert_exporter": "python",
   "pygments_lexer": "ipython2",
   "version": "2.7.12"
  },
  "toc": {
   "nav_menu": {
    "height": "118px",
    "width": "252px"
   },
   "navigate_menu": true,
   "number_sections": true,
   "sideBar": true,
   "threshold": 4,
   "toc_cell": false,
   "toc_section_display": "block",
   "toc_window_display": false
  }
 },
 "nbformat": 4,
 "nbformat_minor": 2
}
