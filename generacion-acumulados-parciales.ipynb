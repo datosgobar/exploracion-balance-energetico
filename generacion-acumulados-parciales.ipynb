{
 "cells": [
  {
   "cell_type": "code",
   "execution_count": null,
   "metadata": {
    "collapsed": false,
    "deletable": true,
    "editable": true
   },
   "outputs": [],
   "source": [
    "from __future__ import print_function\n",
    "from __future__ import unicode_literals\n",
    "import yaml\n",
    "import json\n",
    "import io\n",
    "import procesamiento_microdatos as pm\n",
    "import pandas as pd\n",
    "import unicodecsv as csv\n",
    "import openpyxl as pyxl\n",
    "from collections import OrderedDict"
   ]
  },
  {
   "cell_type": "code",
   "execution_count": null,
   "metadata": {
    "collapsed": true,
    "deletable": true,
    "editable": true
   },
   "outputs": [],
   "source": [
    "panel = pm.generate_panel()"
   ]
  },
  {
   "cell_type": "code",
   "execution_count": null,
   "metadata": {
    "collapsed": false,
    "deletable": true,
    "editable": true
   },
   "outputs": [],
   "source": [
    "with open(\"grupos.yaml\") as groups_file:\n",
    "    grupos = yaml.load(groups_file)\n",
    "    \n",
    "with open(\"alias.yaml\") as alias_file:\n",
    "    alias = yaml.load(alias_file)\n",
    "    \n",
    "agrupamientos_usos = {\n",
    "    \"Otros Conceptos de Oferta\": ['Variación de Stock', 'Búnker', 'No Aprovechado', 'Ajustes'],\n",
    "    \"Oferta Interna\": [\"Producción\", \"Importación\", \"Exportación\", \"Pérdidas\", 'Variación de Stock', 'Búnker', 'No Aprovechado', 'Ajustes'],\n",
    "    \"Centrales Eléctricas\": ['Servicio Público', 'Autoproducción'],\n",
    "    \"Otros Centros de Transformación\": ['Aceiteras y Destilerías', 'Coquerías', 'Carboneras', 'Altos Hornos'],\n",
    "    \"Centros de Transformación\": ['Servicio Público', 'Autoproducción', \"Plantas de Tratamiento de Gas\", \"Refinerías\", 'Aceiteras y Destilerías', 'Coquerías', 'Carboneras', 'Altos Hornos'],\n",
    "    \"Consumo Final\": [\"Consumo No Energético\", \"Residencial\", \"Transporte\", \"Comercial\", \"Industria\", \"Agropecuario\"],\n",
    "    \"Consumo\": [\"Consumo Propio\", \"Consumo No Energético\", \"Residencial\", \"Transporte\", \"Comercial\", \"Industria\", \"Agropecuario\"]\n",
    "}\n",
    "\n",
    "agrupamientos_energias = {\n",
    "    \"Energías Primarias\": [\"Energía Hidráulica\", \"Energía Nuclear\", \"Gas Natural de Pozo\", \"Petróleo\", \"Energía Eólica\", \"Energía Solar\", \"Carbón Mineral\", \"Alcohol Vegetal\", \"Aceites Vegetales\", \"Leña\", \"Bagazo\", \"Otros Primarios\"],\n",
    "    \"Otras Fuentes Primarias de Energía\": [\"Energía Eólica\", \"Energía Solar\", \"Carbón Mineral\", \"Alcohol Vegetal\", \"Aceites Vegetales\", \"Leña\", \"Bagazo\", \"Otros Primarios\"],\n",
    "    \"Aceites y Alcoholes Vegetales\": [\"Alcohol Vegetal\", \"Aceites Vegetales\"],\n",
    "    \"Leña, Bagazo y Otros\": [\"Leña\", \"Bagazo\", \"Otros Primarios\"],\n",
    "    \"Energías Secundarias\":[\"Energía Eléctrica\", \"Gas Distribuido por Redes\", \"Gas Licuado\", \"Gas Oil\", \"Fuel Oil\", \"Motonaftas\", \"Biodiesel\",\"Bioetanol\", \"Gas de Alto Horno\", \"No Energético de Carbón\", \"Carbón Vegetal\", \"Carbón Residual\", \"Coque de Petróleo\", \"Gas de Refinería\", \"Kerosene\", \"No Energético\", \"Otras Naftas\", \"Coque de Carbón\", \"Gas de Coquería\",  \"Etano\", \"Gasolina\"],\n",
    "    \"Derivados del Petróleo\": [\"Gas Oil\", \"Fuel Oil\", \"Motonaftas\"],\n",
    "    \"Biocombustibles\": [\"Biodiesel\",\"Bioetanol\"],\n",
    "    \"Otras Fuentes Secundarias de Energía\": [\"Gas de Alto Horno\", \"No Energético de Carbón\", \"Carbón Vegetal\", \"Carbón Residual\", \"Coque de Petróleo\", \"Gas de Refinería\", \"Kerosene\", \"No Energético\", \"Otras Naftas\", \"Coque de Carbón\", \"Gas de Coquería\",  \"Etano\", \"Gasolina\"],\n",
    "    \"Energías Secundarias del Petróleo\": [\"Carbón Residual\", \"Coque de Petróleo\", \"Gas de Refinería\", \"Kerosene\", \"No Energético\", \"Otras Naftas\"],\n",
    "    \"Energías Secundarias del Carbón\": [\"Coque de Carbón\", \"Gas de Coquería\"],\n",
    "    \"Energías Secundarias del Gas\": [\"Etano\", \"Gasolina\"]\n",
    "\n",
    "}"
   ]
  },
  {
   "cell_type": "code",
   "execution_count": null,
   "metadata": {
    "collapsed": false,
    "deletable": true,
    "editable": true
   },
   "outputs": [],
   "source": [
    "def unalias(df, alias=alias):\n",
    "    \"\"\"Usa el dict 'alias' para dar nombres completos al índice y las columnas de un DataFrame\"\"\"\n",
    "    return df.rename(columns=alias, index=alias)\n",
    "\n",
    "def calcular_perdidas(data):\n",
    "    for uso in data.columns.get_values():\n",
    "        if uso in agrupamientos_usos[\"Centros de Transformación\"]:\n",
    "            data.loc[\"Pérdidas por Transformación\", uso] = -sum(data[uso].dropna())\n",
    "        else:\n",
    "            data.loc[\"Pérdidas por Transformación\", uso] = 0\n",
    "    return data\n",
    "\n",
    "def get_yr(yr):\n",
    "    \"\"\"Devuelve la data correspondiente a un año del panel de microdatos con los nombres de energías y usos completos.\"\"\"\n",
    "    data = unalias(panel[yr])\n",
    "    data = corregir_signo_consumo(data)\n",
    "    data = calcular_perdidas(data)\n",
    "    return data\n",
    "\n",
    "def corregir_signo_consumo(df):\n",
    "    # Corrijo signo de rubros de consumo para que \"reciban\" de las distintas formas de energía\n",
    "    for consumo in [\"Consumo No Energético\", \"Residencial\", \"Comercial\", \"Transporte\", \"Agropecuario\", \"Industria\"]:\n",
    "        df[consumo] = -df[consumo]\n",
    "    return df\n",
    "\n",
    "def make_links(yr):\n",
    "    data = get_yr(yr)\n",
    "    links = list()\n",
    "    # Genero links directamente desde los microdatos cuando es posible\n",
    "    for row in data.index.get_values():\n",
    "        for col in data.columns.get_values():\n",
    "            value = data.loc[row, col]\n",
    "            if value < 0:\n",
    "                links.append({\"source\": row, \"target\": col, \"value\": abs(value)})\n",
    "            elif value > 0:\n",
    "                links.append({\"source\": col, \"target\": row, \"value\": abs(value)})\n",
    "    \n",
    "    # Agrego los links desde las Centrales de Transformación a \"Pérdidas por Transformación\"\n",
    "#    for centro in agrupamientos_usos[\"Centros de Transformación\"]:\n",
    "#        links.append({\"source\": centro,\n",
    "#                      \"target\": \"Pérdidas por Transformación\",\n",
    "#                      \"value\": abs(sum(data[centro]))\n",
    "#                     })\n",
    "    return links\n",
    "\n",
    "def get_nodos(formato=\"dict\"):\n",
    "    wb = pyxl.load_workbook(\"maestro-nodos.xlsx\")\n",
    "    ws = wb.active\n",
    "    raw_data = ws.values\n",
    "    \n",
    "    cols = next(raw_data)\n",
    "    rows = list(raw_data)\n",
    "    if formato == \"dict\":\n",
    "        return [dict(zip(cols, row)) for row in rows]\n",
    "    elif formato == \"df\":\n",
    "        return pd.DataFrame.from_records(rows, columns=cols)\n",
    "    else:\n",
    "        print(\"Formato no reconodico: {}\".format(formato))"
   ]
  },
  {
   "cell_type": "code",
   "execution_count": null,
   "metadata": {
    "collapsed": true,
    "deletable": true,
    "editable": true
   },
   "outputs": [],
   "source": [
    "nodos = get_nodos(\"df\")"
   ]
  },
  {
   "cell_type": "code",
   "execution_count": null,
   "metadata": {
    "collapsed": false,
    "deletable": true,
    "editable": true
   },
   "outputs": [],
   "source": [
    "data2015 = get_yr(2015)"
   ]
  },
  {
   "cell_type": "code",
   "execution_count": null,
   "metadata": {
    "collapsed": false,
    "deletable": true,
    "editable": true
   },
   "outputs": [],
   "source": [
    "links2015 = make_links(2015)"
   ]
  },
  {
   "cell_type": "code",
   "execution_count": null,
   "metadata": {
    "collapsed": false,
    "deletable": true,
    "editable": true
   },
   "outputs": [],
   "source": [
    "data_energias = data2015.reset_index().rename_axis({\"index\": \"Nombre\"}, 1)"
   ]
  },
  {
   "cell_type": "code",
   "execution_count": null,
   "metadata": {
    "collapsed": false,
    "deletable": true,
    "editable": true
   },
   "outputs": [],
   "source": [
    "data_energias = nodos.merge(data_energias)"
   ]
  },
  {
   "cell_type": "code",
   "execution_count": null,
   "metadata": {
    "collapsed": false,
    "deletable": true,
    "editable": true
   },
   "outputs": [],
   "source": [
    "CAMPOS_DATAJSON = {\n",
    "    \"ID\": \"id\",\n",
    "    \"Nombre\": \"name\",\n",
    "    \"ID Padre\": \"parent\",\n",
    "    \"Grupo\": \"group\",\n",
    "    \"Posicion\": \"position\"\n",
    "}\n",
    "\n",
    "def generar_lista_nodos(nodos):\n",
    "    return nodos.drop(\n",
    "        [\"Eje\", \"Es Base\",\"Nombre Padre\"], axis=1\n",
    "    ).rename(columns=CAMPOS_DATAJSON\n",
    "    ).to_dict(orient='records')\n"
   ]
  },
  {
   "cell_type": "code",
   "execution_count": null,
   "metadata": {
    "collapsed": false,
    "deletable": true,
    "editable": true
   },
   "outputs": [],
   "source": [
    "lista_de_nodos = generar_lista_nodos(nodos)"
   ]
  },
  {
   "cell_type": "code",
   "execution_count": null,
   "metadata": {
    "collapsed": false,
    "deletable": true,
    "editable": true
   },
   "outputs": [],
   "source": [
    "def get_id_from_nombre(nombre_nodo):\n",
    "    return [n for n in lista_de_nodos if n[\"name\"] == nombre_nodo][0].get(\"id\")"
   ]
  },
  {
   "cell_type": "code",
   "execution_count": null,
   "metadata": {
    "collapsed": false,
    "deletable": true,
    "editable": true
   },
   "outputs": [],
   "source": [
    "def convert_names_to_ids(links_list):\n",
    "    return([{\"source\": get_id_from_nombre(link[\"source\"]),\n",
    "             \"target\": get_id_from_nombre(link[\"target\"]),\n",
    "             \"value\": round(link[\"value\"],2)}\n",
    "            for link in links_list if round(link[\"value\"],2)>=0.01])"
   ]
  },
  {
   "cell_type": "code",
   "execution_count": null,
   "metadata": {
    "collapsed": false,
    "deletable": true,
    "editable": true
   },
   "outputs": [],
   "source": [
    "lista_de_links_con_id = convert_names_to_ids(links2015)"
   ]
  },
  {
   "cell_type": "code",
   "execution_count": null,
   "metadata": {
    "collapsed": true,
    "deletable": true,
    "editable": true
   },
   "outputs": [],
   "source": [
    "datajson_2015 = {\"nodes\": lista_de_nodos, \"links\": lista_de_links_con_id}"
   ]
  },
  {
   "cell_type": "code",
   "execution_count": null,
   "metadata": {
    "collapsed": false,
    "deletable": true,
    "editable": true
   },
   "outputs": [],
   "source": [
    "def write_json(obj, path):\n",
    "    \"\"\"Escribo un objeto a un archivo JSON con codificación UTF-8.\"\"\"\n",
    "    obj_str = json.dumps(obj, indent=4, separators=(\",\", \": \"),\n",
    "                         ensure_ascii=False)\n",
    "    with io.open(path, \"w\", encoding='utf-8') as target:\n",
    "        target.write(obj_str)\n"
   ]
  },
  {
   "cell_type": "code",
   "execution_count": null,
   "metadata": {
    "collapsed": false,
    "deletable": true,
    "editable": true
   },
   "outputs": [],
   "source": [
    "nodos = get_nodos(\"df\")\n",
    "lista_de_nodos = generar_lista_nodos(nodos)\n",
    "for i in panel.items:\n",
    "    data = get_yr(i)\n",
    "    links = make_links(i)\n",
    "    lista_de_links_con_id = convert_names_to_ids(links)\n",
    "    datajson = {\"nodes\": lista_de_nodos, \"links\": lista_de_links_con_id}\n",
    "    write_json(datajson, \"output/data_{}.json\".format(i))"
   ]
  },
  {
   "cell_type": "code",
   "execution_count": null,
   "metadata": {
    "collapsed": false
   },
   "outputs": [],
   "source": [
    "panel[2015,:,:]"
   ]
  },
  {
   "cell_type": "code",
   "execution_count": null,
   "metadata": {
    "collapsed": false,
    "deletable": true,
    "editable": true
   },
   "outputs": [],
   "source": [
    "def sumar_filas_df(df, nueva_fila, filas, borrar=True):\n",
    "    \"\"\"Suma todas las filas con índices en la lista `filas`,\n",
    "    en una nueva fila con índice `nueva_fila`. Si `borrar`, no las incluye en el df retornado. Devuelve el df\"\"\"\n",
    "    df.loc[nueva_fila] = reduce(pd.Series.add, [df.loc[f] for f in filas])\n",
    "    if borrar:\n",
    "        df = df.drop(filas, axis=0)\n",
    "    return df\n",
    "        \n",
    "def adaptar_df_a_entidades_minem(df):\n",
    "    for energia in agrupamientos_energias:\n",
    "        df = sumar_filas_df(df, nueva_fila=energia, filas=agrupamientos_energias[energia])\n",
    "    return df\n",
    "\n",
    "def simplificar_usos(df):\n",
    "    df_usos = df.transpose()\n",
    "    for uso in agrupamientos_usos:\n",
    "        df_usos = sumar_filas_df(df_usos, nueva_fila=uso, filas=agrupamientos_usos[uso])\n",
    "    df = df_usos.transpose()\n",
    "    return df\n",
    "\n",
    "simplificar_usos(adaptar_df_a_entidades_minem(data2015))"
   ]
  },
  {
   "cell_type": "code",
   "execution_count": null,
   "metadata": {
    "collapsed": false
   },
   "outputs": [],
   "source": [
    "data2015.transpose()"
   ]
  },
  {
   "cell_type": "code",
   "execution_count": null,
   "metadata": {
    "collapsed": true
   },
   "outputs": [],
   "source": []
  }
 ],
 "metadata": {
  "anaconda-cloud": {},
  "kernelspec": {
   "display_name": "Python 2",
   "language": "python",
   "name": "python2"
  },
  "language_info": {
   "codemirror_mode": {
    "name": "ipython",
    "version": 2
   },
   "file_extension": ".py",
   "mimetype": "text/x-python",
   "name": "python",
   "nbconvert_exporter": "python",
   "pygments_lexer": "ipython2",
   "version": "2.7.12"
  },
  "toc": {
   "nav_menu": {
    "height": "12px",
    "width": "252px"
   },
   "navigate_menu": true,
   "number_sections": true,
   "sideBar": true,
   "threshold": 4,
   "toc_cell": false,
   "toc_section_display": "block",
   "toc_window_display": false
  }
 },
 "nbformat": 4,
 "nbformat_minor": 1
}
