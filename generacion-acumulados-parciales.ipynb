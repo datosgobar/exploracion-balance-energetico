{
 "cells": [
  {
   "cell_type": "code",
   "execution_count": 55,
   "metadata": {
    "collapsed": false
   },
   "outputs": [],
   "source": [
    "from __future__ import print_function\n",
    "from __future__ import unicode_literals\n",
    "import yaml\n",
    "import procesamiento_microdatos as pm"
   ]
  },
  {
   "cell_type": "code",
   "execution_count": 56,
   "metadata": {
    "collapsed": true
   },
   "outputs": [],
   "source": [
    "pan = pm.generate_panel()"
   ]
  },
  {
   "cell_type": "code",
   "execution_count": 76,
   "metadata": {
    "collapsed": false
   },
   "outputs": [],
   "source": [
    "with open(\"grupos.yaml\") as groups_file:\n",
    "    grupos = yaml.load(groups_file)"
   ]
  },
  {
   "cell_type": "code",
   "execution_count": 77,
   "metadata": {
    "collapsed": false
   },
   "outputs": [
    {
     "data": {
      "text/plain": [
       "[{u'Energ\\xedas Primarias': [u'Energ\\xeda Hidr\\xe1ulica',\n",
       "   u'Energ\\xeda Nuclear',\n",
       "   'Gas Natural de Pozo',\n",
       "   u'Petr\\xf3leo',\n",
       "   {u'Otras Fuentes Primarias de Energ\\xeda': [u'Energ\\xeda E\\xf3lica',\n",
       "     u'Energ\\xeda Solar',\n",
       "     u'Carb\\xf3n Mineral',\n",
       "     {'Aceites y Alcoholes Vegetales': ['Alcohol Vegetal',\n",
       "       'Aceites Vegetales']},\n",
       "     {u'Le\\xf1a, Bagazo y Otros': [u'Le\\xf1a',\n",
       "       'Bagazo',\n",
       "       'Otros Primarios']}]}]},\n",
       " {u'Energ\\xedas Secundarias': [u'Energ\\xeda El\\xe9ctrica',\n",
       "   'Gas Distribuido por Redes',\n",
       "   'Gas Licuado',\n",
       "   {u'Derivados del Petr\\xf3leo': ['Gas Oil', 'Fuel Oil', 'Motonaftas']},\n",
       "   {'Biocombustibles': ['Biodiesel', 'Bioetanol']},\n",
       "   {u'Otras Fuentes Secundarias de Energ\\xeda': ['Gas de Alto Horno',\n",
       "     u'No Energ\\xe9tico de Carb\\xf3n',\n",
       "     u'Carb\\xf3n Vegetal',\n",
       "     {u'Energ\\xedas Secundarias del Petr\\xf3leo': [u'Carb\\xf3n Residual',\n",
       "       u'Coque de Petr\\xf3leo',\n",
       "       u'Gas de Refiner\\xeda',\n",
       "       'Kerosene',\n",
       "       u'No Energ\\xe9tico',\n",
       "       'Otras Naftas']},\n",
       "     {u'Energ\\xedas Secundarias del Carb\\xf3n': [u'Coque de Carb\\xf3n',\n",
       "       u'Gas de Coquer\\xeda']},\n",
       "     {u'Energ\\xedas Secundarias del Gas': ['Etano', 'Gasolina']}]}]},\n",
       " {'Oferta': [u'Producci\\xf3n',\n",
       "   u'Importaci\\xf3n',\n",
       "   u'Variaci\\xf3n de Stock',\n",
       "   u'Exportaci\\xf3n',\n",
       "   u'B\\xfanker',\n",
       "   'No Aprovechado',\n",
       "   u'P\\xe9rdidas',\n",
       "   'Ajustes']},\n",
       " {u'Centros de Transformaci\\xf3n': [{u'Centrales El\\xe9ctricas': [u'Servicio P\\xfablico',\n",
       "     u'Autoproducci\\xf3n']},\n",
       "   'Plantas de Tratamiento de Gas',\n",
       "   u'Refiner\\xedas',\n",
       "   {u'Otros Centros de Transformaci\\xf3n': [u'Aceiteras y Destiler\\xedas',\n",
       "     u'Coquer\\xedas',\n",
       "     'Altos Hornos']}]},\n",
       " {'Consumo': ['Consumo Propio',\n",
       "   {'Consumo Final': ['Residencial',\n",
       "     u'No Energ\\xe9tico',\n",
       "     'Carboneras',\n",
       "     'Transporte',\n",
       "     'Comercial',\n",
       "     'Industria',\n",
       "     'Agropecuario']}]}]"
      ]
     },
     "execution_count": 77,
     "metadata": {},
     "output_type": "execute_result"
    }
   ],
   "source": [
    "grupos"
   ]
  },
  {
   "cell_type": "code",
   "execution_count": 60,
   "metadata": {
    "collapsed": false
   },
   "outputs": [],
   "source": [
    "def flatten_tree(tree):\n",
    "    if isinstance(tree, (unicode, str)):\n",
    "        print(tree)\n",
    "    elif isinstance(tree, list):\n",
    "        \n",
    "                  for node in tree:\n",
    "        print(\"{}: {}\".format(node, type(node)))"
   ]
  },
  {
   "cell_type": "code",
   "execution_count": 78,
   "metadata": {
    "collapsed": false
   },
   "outputs": [
    {
     "name": "stdout",
     "output_type": "stream",
     "text": [
      "{u'Energ\\xedas Primarias': [u'Energ\\xeda Hidr\\xe1ulica', u'Energ\\xeda Nuclear', 'Gas Natural de Pozo', u'Petr\\xf3leo', {u'Otras Fuentes Primarias de Energ\\xeda': [u'Energ\\xeda E\\xf3lica', u'Energ\\xeda Solar', u'Carb\\xf3n Mineral', {'Aceites y Alcoholes Vegetales': ['Alcohol Vegetal', 'Aceites Vegetales']}, {u'Le\\xf1a, Bagazo y Otros': [u'Le\\xf1a', 'Bagazo', 'Otros Primarios']}]}]}: <type 'dict'>\n",
      "{u'Energ\\xedas Secundarias': [u'Energ\\xeda El\\xe9ctrica', 'Gas Distribuido por Redes', 'Gas Licuado', {u'Derivados del Petr\\xf3leo': ['Gas Oil', 'Fuel Oil', 'Motonaftas']}, {'Biocombustibles': ['Biodiesel', 'Bioetanol']}, {u'Otras Fuentes Secundarias de Energ\\xeda': ['Gas de Alto Horno', u'No Energ\\xe9tico de Carb\\xf3n', u'Carb\\xf3n Vegetal', {u'Energ\\xedas Secundarias del Petr\\xf3leo': [u'Carb\\xf3n Residual', u'Coque de Petr\\xf3leo', u'Gas de Refiner\\xeda', 'Kerosene', u'No Energ\\xe9tico', 'Otras Naftas']}, {u'Energ\\xedas Secundarias del Carb\\xf3n': [u'Coque de Carb\\xf3n', u'Gas de Coquer\\xeda']}, {u'Energ\\xedas Secundarias del Gas': ['Etano', 'Gasolina']}]}]}: <type 'dict'>\n",
      "{'Oferta': [u'Producci\\xf3n', u'Importaci\\xf3n', u'Variaci\\xf3n de Stock', u'Exportaci\\xf3n', u'B\\xfanker', 'No Aprovechado', u'P\\xe9rdidas', 'Ajustes']}: <type 'dict'>\n",
      "{u'Centros de Transformaci\\xf3n': [{u'Centrales El\\xe9ctricas': [u'Servicio P\\xfablico', u'Autoproducci\\xf3n']}, 'Plantas de Tratamiento de Gas', u'Refiner\\xedas', {u'Otros Centros de Transformaci\\xf3n': [u'Aceiteras y Destiler\\xedas', u'Coquer\\xedas', 'Altos Hornos']}]}: <type 'dict'>\n",
      "{'Consumo': ['Consumo Propio', {'Consumo Final': ['Residencial', u'No Energ\\xe9tico', 'Carboneras', 'Transporte', 'Comercial', 'Industria', 'Agropecuario']}]}: <type 'dict'>\n"
     ]
    }
   ],
   "source": [
    "flatten_tree(grupos)"
   ]
  },
  {
   "cell_type": "code",
   "execution_count": 38,
   "metadata": {
    "collapsed": false
   },
   "outputs": [
    {
     "data": {
      "text/plain": [
       "[u'Energ\\xeda Hidr\\xe1ulica',\n",
       " u'Energ\\xeda Nuclear',\n",
       " 'Gas Natural de Pozo',\n",
       " u'Petr\\xf3leo',\n",
       " {u'Otras Fuentes Primarias de Energ\\xeda': [u'Energ\\xeda E\\xf3lica',\n",
       "   u'Energ\\xeda Solar',\n",
       "   u'Carb\\xf3n Mineral',\n",
       "   {'Aceites y Alcoholes Vegetales': ['Alcohol Vegetal', 'Aceites Vegetales']},\n",
       "   {u'Le\\xf1a, Bagazo y Otros': [u'Le\\xf1a', 'Bagazo', 'Otros Primarios']}]}]"
      ]
     },
     "execution_count": 38,
     "metadata": {},
     "output_type": "execute_result"
    }
   ],
   "source": [
    "grupos[\"Energías Primarias\"]"
   ]
  },
  {
   "cell_type": "code",
   "execution_count": 69,
   "metadata": {
    "collapsed": false
   },
   "outputs": [],
   "source": [
    "ep = grupos[\"Energías Primarias\"]"
   ]
  },
  {
   "cell_type": "code",
   "execution_count": 79,
   "metadata": {
    "collapsed": true
   },
   "outputs": [],
   "source": [
    "def flatten(coso, flat_list=[]):\n",
    "    for elem in coso:\n",
    "        if isinstance(elem, (unicode, str)):\n",
    "            flat_list.append(elem)\n",
    "        else:\n",
    "            for key in elem:\n",
    "                flat_list.append(key)\n",
    "                flatten(elem[key], flat_list)\n",
    "    return flat_list"
   ]
  },
  {
   "cell_type": "code",
   "execution_count": 80,
   "metadata": {
    "collapsed": false
   },
   "outputs": [
    {
     "data": {
      "text/plain": [
       "[u'Energ\\xedas Primarias',\n",
       " u'Energ\\xeda Hidr\\xe1ulica',\n",
       " u'Energ\\xeda Nuclear',\n",
       " 'Gas Natural de Pozo',\n",
       " u'Petr\\xf3leo',\n",
       " u'Otras Fuentes Primarias de Energ\\xeda',\n",
       " u'Energ\\xeda E\\xf3lica',\n",
       " u'Energ\\xeda Solar',\n",
       " u'Carb\\xf3n Mineral',\n",
       " 'Aceites y Alcoholes Vegetales',\n",
       " 'Alcohol Vegetal',\n",
       " 'Aceites Vegetales',\n",
       " u'Le\\xf1a, Bagazo y Otros',\n",
       " u'Le\\xf1a',\n",
       " 'Bagazo',\n",
       " 'Otros Primarios',\n",
       " u'Energ\\xedas Secundarias',\n",
       " u'Energ\\xeda El\\xe9ctrica',\n",
       " 'Gas Distribuido por Redes',\n",
       " 'Gas Licuado',\n",
       " u'Derivados del Petr\\xf3leo',\n",
       " 'Gas Oil',\n",
       " 'Fuel Oil',\n",
       " 'Motonaftas',\n",
       " 'Biocombustibles',\n",
       " 'Biodiesel',\n",
       " 'Bioetanol',\n",
       " u'Otras Fuentes Secundarias de Energ\\xeda',\n",
       " 'Gas de Alto Horno',\n",
       " u'No Energ\\xe9tico de Carb\\xf3n',\n",
       " u'Carb\\xf3n Vegetal',\n",
       " u'Energ\\xedas Secundarias del Petr\\xf3leo',\n",
       " u'Carb\\xf3n Residual',\n",
       " u'Coque de Petr\\xf3leo',\n",
       " u'Gas de Refiner\\xeda',\n",
       " 'Kerosene',\n",
       " u'No Energ\\xe9tico',\n",
       " 'Otras Naftas',\n",
       " u'Energ\\xedas Secundarias del Carb\\xf3n',\n",
       " u'Coque de Carb\\xf3n',\n",
       " u'Gas de Coquer\\xeda',\n",
       " u'Energ\\xedas Secundarias del Gas',\n",
       " 'Etano',\n",
       " 'Gasolina',\n",
       " 'Oferta',\n",
       " u'Producci\\xf3n',\n",
       " u'Importaci\\xf3n',\n",
       " u'Variaci\\xf3n de Stock',\n",
       " u'Exportaci\\xf3n',\n",
       " u'B\\xfanker',\n",
       " 'No Aprovechado',\n",
       " u'P\\xe9rdidas',\n",
       " 'Ajustes',\n",
       " u'Centros de Transformaci\\xf3n',\n",
       " u'Centrales El\\xe9ctricas',\n",
       " u'Servicio P\\xfablico',\n",
       " u'Autoproducci\\xf3n',\n",
       " 'Plantas de Tratamiento de Gas',\n",
       " u'Refiner\\xedas',\n",
       " u'Otros Centros de Transformaci\\xf3n',\n",
       " u'Aceiteras y Destiler\\xedas',\n",
       " u'Coquer\\xedas',\n",
       " 'Altos Hornos',\n",
       " 'Consumo',\n",
       " 'Consumo Propio',\n",
       " 'Consumo Final',\n",
       " 'Residencial',\n",
       " u'No Energ\\xe9tico',\n",
       " 'Carboneras',\n",
       " 'Transporte',\n",
       " 'Comercial',\n",
       " 'Industria',\n",
       " 'Agropecuario']"
      ]
     },
     "execution_count": 80,
     "metadata": {},
     "output_type": "execute_result"
    }
   ],
   "source": [
    "flatten(grupos)"
   ]
  },
  {
   "cell_type": "code",
   "execution_count": null,
   "metadata": {
    "collapsed": true
   },
   "outputs": [],
   "source": []
  }
 ],
 "metadata": {
  "anaconda-cloud": {},
  "kernelspec": {
   "display_name": "Python [conda env:energia]",
   "language": "python",
   "name": "conda-env-energia-py"
  },
  "language_info": {
   "codemirror_mode": {
    "name": "ipython",
    "version": 2
   },
   "file_extension": ".py",
   "mimetype": "text/x-python",
   "name": "python",
   "nbconvert_exporter": "python",
   "pygments_lexer": "ipython2",
   "version": "2.7.12"
  },
  "toc": {
   "nav_menu": {
    "height": "12px",
    "width": "252px"
   },
   "navigate_menu": true,
   "number_sections": true,
   "sideBar": true,
   "threshold": 4,
   "toc_cell": false,
   "toc_section_display": "block",
   "toc_window_display": false
  }
 },
 "nbformat": 4,
 "nbformat_minor": 1
}
